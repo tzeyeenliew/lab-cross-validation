{
 "cells": [
  {
   "cell_type": "markdown",
   "id": "c979bd1d",
   "metadata": {},
   "source": [
    "### Importing the necessary libraries"
   ]
  },
  {
   "cell_type": "code",
   "execution_count": 1,
   "id": "b8949e54",
   "metadata": {},
   "outputs": [],
   "source": [
    "import pandas as pd\n",
    "import numpy as np\n",
    "from sklearn.model_selection import train_test_split\n",
    "from sklearn.preprocessing import StandardScaler\n",
    "from sklearn.preprocessing import MinMaxScaler\n",
    "from sklearn.linear_model import LogisticRegression\n",
    "from sklearn.metrics import accuracy_score\n",
    "from imblearn.over_sampling import RandomOverSampler\n",
    "from imblearn.under_sampling import RandomUnderSampler\n",
    "from sklearn.metrics import classification_report\n",
    "from sklearn.tree import DecisionTreeClassifier\n",
    "import warnings\n",
    "warnings.filterwarnings(\"ignore\")"
   ]
  },
  {
   "cell_type": "code",
   "execution_count": 2,
   "id": "bc8c2560",
   "metadata": {},
   "outputs": [],
   "source": [
    "data1 = pd.read_csv('upsampled_data.csv')  #importing upsampled(via SMOTE) dataset from previous lab"
   ]
  },
  {
   "cell_type": "code",
   "execution_count": 3,
   "id": "22d0297b",
   "metadata": {},
   "outputs": [
    {
     "data": {
      "text/html": [
       "<div>\n",
       "<style scoped>\n",
       "    .dataframe tbody tr th:only-of-type {\n",
       "        vertical-align: middle;\n",
       "    }\n",
       "\n",
       "    .dataframe tbody tr th {\n",
       "        vertical-align: top;\n",
       "    }\n",
       "\n",
       "    .dataframe thead th {\n",
       "        text-align: right;\n",
       "    }\n",
       "</style>\n",
       "<table border=\"1\" class=\"dataframe\">\n",
       "  <thead>\n",
       "    <tr style=\"text-align: right;\">\n",
       "      <th></th>\n",
       "      <th>tenure</th>\n",
       "      <th>SeniorCitizen</th>\n",
       "      <th>MonthlyCharges</th>\n",
       "      <th>TotalCharges</th>\n",
       "      <th>Churn</th>\n",
       "    </tr>\n",
       "  </thead>\n",
       "  <tbody>\n",
       "    <tr>\n",
       "      <th>0</th>\n",
       "      <td>-1.280248</td>\n",
       "      <td>0</td>\n",
       "      <td>0.115423</td>\n",
       "      <td>-0.994194</td>\n",
       "      <td>No</td>\n",
       "    </tr>\n",
       "    <tr>\n",
       "      <th>1</th>\n",
       "      <td>0.064303</td>\n",
       "      <td>0</td>\n",
       "      <td>0.385075</td>\n",
       "      <td>-0.173740</td>\n",
       "      <td>No</td>\n",
       "    </tr>\n",
       "    <tr>\n",
       "      <th>2</th>\n",
       "      <td>-1.239504</td>\n",
       "      <td>0</td>\n",
       "      <td>0.354229</td>\n",
       "      <td>-0.959649</td>\n",
       "      <td>Yes</td>\n",
       "    </tr>\n",
       "    <tr>\n",
       "      <th>3</th>\n",
       "      <td>0.512486</td>\n",
       "      <td>0</td>\n",
       "      <td>0.239303</td>\n",
       "      <td>-0.195248</td>\n",
       "      <td>No</td>\n",
       "    </tr>\n",
       "    <tr>\n",
       "      <th>4</th>\n",
       "      <td>-1.239504</td>\n",
       "      <td>0</td>\n",
       "      <td>0.521891</td>\n",
       "      <td>-0.940457</td>\n",
       "      <td>Yes</td>\n",
       "    </tr>\n",
       "  </tbody>\n",
       "</table>\n",
       "</div>"
      ],
      "text/plain": [
       "     tenure  SeniorCitizen  MonthlyCharges  TotalCharges Churn\n",
       "0 -1.280248              0        0.115423     -0.994194    No\n",
       "1  0.064303              0        0.385075     -0.173740    No\n",
       "2 -1.239504              0        0.354229     -0.959649   Yes\n",
       "3  0.512486              0        0.239303     -0.195248    No\n",
       "4 -1.239504              0        0.521891     -0.940457   Yes"
      ]
     },
     "execution_count": 3,
     "metadata": {},
     "output_type": "execute_result"
    }
   ],
   "source": [
    "data1.head()"
   ]
  },
  {
   "cell_type": "code",
   "execution_count": 4,
   "id": "d2aa3ccf",
   "metadata": {},
   "outputs": [],
   "source": [
    "data2= pd.read_csv('downsampled_data.csv') #importing downsampled (via TOMEKlinks) dataset from previous lab"
   ]
  },
  {
   "cell_type": "code",
   "execution_count": 5,
   "id": "989a57b3",
   "metadata": {},
   "outputs": [
    {
     "data": {
      "text/html": [
       "<div>\n",
       "<style scoped>\n",
       "    .dataframe tbody tr th:only-of-type {\n",
       "        vertical-align: middle;\n",
       "    }\n",
       "\n",
       "    .dataframe tbody tr th {\n",
       "        vertical-align: top;\n",
       "    }\n",
       "\n",
       "    .dataframe thead th {\n",
       "        text-align: right;\n",
       "    }\n",
       "</style>\n",
       "<table border=\"1\" class=\"dataframe\">\n",
       "  <thead>\n",
       "    <tr style=\"text-align: right;\">\n",
       "      <th></th>\n",
       "      <th>tenure</th>\n",
       "      <th>TotalCharges</th>\n",
       "      <th>SeniorCitizen</th>\n",
       "      <th>MonthlyCharges</th>\n",
       "      <th>Churn</th>\n",
       "    </tr>\n",
       "  </thead>\n",
       "  <tbody>\n",
       "    <tr>\n",
       "      <th>0</th>\n",
       "      <td>0.000000</td>\n",
       "      <td>0.001275</td>\n",
       "      <td>0.0</td>\n",
       "      <td>0.115423</td>\n",
       "      <td>No</td>\n",
       "    </tr>\n",
       "    <tr>\n",
       "      <th>1</th>\n",
       "      <td>0.464789</td>\n",
       "      <td>0.215867</td>\n",
       "      <td>0.0</td>\n",
       "      <td>0.385075</td>\n",
       "      <td>No</td>\n",
       "    </tr>\n",
       "    <tr>\n",
       "      <th>2</th>\n",
       "      <td>0.014085</td>\n",
       "      <td>0.010310</td>\n",
       "      <td>0.0</td>\n",
       "      <td>0.354229</td>\n",
       "      <td>Yes</td>\n",
       "    </tr>\n",
       "    <tr>\n",
       "      <th>3</th>\n",
       "      <td>0.619718</td>\n",
       "      <td>0.210241</td>\n",
       "      <td>0.0</td>\n",
       "      <td>0.239303</td>\n",
       "      <td>No</td>\n",
       "    </tr>\n",
       "    <tr>\n",
       "      <th>4</th>\n",
       "      <td>0.014085</td>\n",
       "      <td>0.015330</td>\n",
       "      <td>0.0</td>\n",
       "      <td>0.521891</td>\n",
       "      <td>Yes</td>\n",
       "    </tr>\n",
       "  </tbody>\n",
       "</table>\n",
       "</div>"
      ],
      "text/plain": [
       "     tenure  TotalCharges  SeniorCitizen  MonthlyCharges Churn\n",
       "0  0.000000      0.001275            0.0        0.115423    No\n",
       "1  0.464789      0.215867            0.0        0.385075    No\n",
       "2  0.014085      0.010310            0.0        0.354229   Yes\n",
       "3  0.619718      0.210241            0.0        0.239303    No\n",
       "4  0.014085      0.015330            0.0        0.521891   Yes"
      ]
     },
     "execution_count": 5,
     "metadata": {},
     "output_type": "execute_result"
    }
   ],
   "source": [
    "data2.head()"
   ]
  },
  {
   "cell_type": "markdown",
   "id": "ddfdf6ae",
   "metadata": {},
   "source": [
    "### 1. Apply SMOTE for upsampling the data"
   ]
  },
  {
   "cell_type": "code",
   "execution_count": 7,
   "id": "7d9d54b7",
   "metadata": {},
   "outputs": [],
   "source": [
    "X_upsampled = data1.drop('Churn', axis=1) #already done in the previous lab\n",
    "y_upsampled = data1['Churn']"
   ]
  },
  {
   "cell_type": "markdown",
   "id": "996eafd7",
   "metadata": {},
   "source": [
    "### 2. Use logistic regression to fit the model and compute the accuracy of the model."
   ]
  },
  {
   "cell_type": "code",
   "execution_count": 8,
   "id": "eaa7a325",
   "metadata": {},
   "outputs": [],
   "source": [
    "X_train_up, X_test_up, y_train_up, y_test_up = train_test_split(X_upsampled, y_upsampled, test_size=0.2, random_state=42)"
   ]
  },
  {
   "cell_type": "code",
   "execution_count": 10,
   "id": "1ade3f87",
   "metadata": {},
   "outputs": [
    {
     "name": "stdout",
     "output_type": "stream",
     "text": [
      "Accuracy (Logistic Regression - SMOTE from previous lab): 0.7434656340755083\n"
     ]
    }
   ],
   "source": [
    "logreg_up = LogisticRegression()\n",
    "logreg_up.fit(X_train_up, y_train_up)b\n",
    "y_pred_up = logreg_up.predict(X_test_up)\n",
    "accuracy_smotw = accuracy_score(y_test_up, y_pred_up)\n",
    "print(\"Accuracy (Logistic Regression - Smotified from previous lab):\", accuracy_up)"
   ]
  },
  {
   "cell_type": "code",
   "execution_count": 21,
   "id": "cc8a9a8a",
   "metadata": {},
   "outputs": [
    {
     "name": "stdout",
     "output_type": "stream",
     "text": [
      "              precision    recall  f1-score   support\n",
      "\n",
      "          No       0.75      0.74      0.74      1037\n",
      "         Yes       0.74      0.75      0.74      1029\n",
      "\n",
      "    accuracy                           0.74      2066\n",
      "   macro avg       0.74      0.74      0.74      2066\n",
      "weighted avg       0.74      0.74      0.74      2066\n",
      "\n"
     ]
    }
   ],
   "source": [
    "print(classification_report(y_test_up, y_pred_up))"
   ]
  },
  {
   "cell_type": "markdown",
   "id": "bd7029ec",
   "metadata": {},
   "source": [
    "### 3. Use decision tree classifier to fit the model and compute the accuracy of the model."
   ]
  },
  {
   "cell_type": "code",
   "execution_count": 11,
   "id": "2ef4915d",
   "metadata": {},
   "outputs": [
    {
     "name": "stdout",
     "output_type": "stream",
     "text": [
      "Accuracy (Decision Tree - Upsampled): 0.7507260406582769\n"
     ]
    }
   ],
   "source": [
    "dt_up = DecisionTreeClassifier()\n",
    "dt_up.fit(X_train_up, y_train_up)\n",
    "y_pred_dt_up = dt_up.predict(X_test_up)\n",
    "accuracy_dt_up = accuracy_score(y_test_up, y_pred_dt_up)\n",
    "print(\"Accuracy (Decision Tree - Smotified from previous lab):\", accuracy_dt_up)"
   ]
  },
  {
   "cell_type": "code",
   "execution_count": 22,
   "id": "b9759b57",
   "metadata": {},
   "outputs": [
    {
     "name": "stdout",
     "output_type": "stream",
     "text": [
      "              precision    recall  f1-score   support\n",
      "\n",
      "          No       0.75      0.75      0.75      1037\n",
      "         Yes       0.75      0.76      0.75      1029\n",
      "\n",
      "    accuracy                           0.75      2066\n",
      "   macro avg       0.75      0.75      0.75      2066\n",
      "weighted avg       0.75      0.75      0.75      2066\n",
      "\n"
     ]
    }
   ],
   "source": [
    "print(classification_report(y_test_up, y_pred_dt_up))"
   ]
  },
  {
   "cell_type": "markdown",
   "id": "2534b75e",
   "metadata": {},
   "source": [
    "### 4. Compare the accuracies of the two models."
   ]
  },
  {
   "cell_type": "code",
   "execution_count": 19,
   "id": "fde1a5b1",
   "metadata": {},
   "outputs": [
    {
     "name": "stdout",
     "output_type": "stream",
     "text": [
      "Accuracy Comparison - Smotified\n",
      "Logistic Regression Accuracy: 0.7434656340755083\n",
      "Decision Tree Accuracy: 0.7507260406582769\n"
     ]
    }
   ],
   "source": [
    "print(\"Accuracy Comparison - Smotified\")\n",
    "print(\"Logistic Regression Accuracy:\", accuracy_up)\n",
    "print(\"Decision Tree Accuracy:\", accuracy_dt_up)"
   ]
  },
  {
   "cell_type": "markdown",
   "id": "0c2c7f73",
   "metadata": {},
   "source": [
    "### The results of both the logistic regression and decision tree classifier are both similar Post-SMOTE. However, the logistic regression model is marginally better at predicting Yes (the minority sample)."
   ]
  },
  {
   "cell_type": "markdown",
   "id": "bd247ba2",
   "metadata": {},
   "source": [
    "### 5. Apply TomekLinks for downsampling"
   ]
  },
  {
   "cell_type": "code",
   "execution_count": 12,
   "id": "1163f224",
   "metadata": {},
   "outputs": [],
   "source": [
    "X_downsampled= data2.drop('Churn', axis=1)\n",
    "y_downsampled=data2['Churn']"
   ]
  },
  {
   "cell_type": "markdown",
   "id": "c4aca14a",
   "metadata": {},
   "source": [
    "### 6. Use logistic regression to fit the model and compute the accuracy of the model."
   ]
  },
  {
   "cell_type": "code",
   "execution_count": 13,
   "id": "4222e4dd",
   "metadata": {},
   "outputs": [],
   "source": [
    "X_train_down, X_test_down, y_train_down, y_test_down = train_test_split(X_downsampled, y_downsampled, test_size=0.2, random_state=42)\n"
   ]
  },
  {
   "cell_type": "code",
   "execution_count": 24,
   "id": "ccd9555f",
   "metadata": {},
   "outputs": [
    {
     "name": "stdout",
     "output_type": "stream",
     "text": [
      "Accuracy (Logistic Regression - TOMEKLinkified from previous lab): 0.7966231772831927\n"
     ]
    }
   ],
   "source": [
    "logreg_down = LogisticRegression()\n",
    "logreg_down.fit(X_train_down, y_train_down)\n",
    "y_pred_down = logreg_down.predict(X_test_down)\n",
    "accuracy_down = accuracy_score(y_test_down, y_pred_down)\n",
    "print(\"Accuracy (Logistic Regression - TOMEKLinkified from previous lab):\", accuracy_down)\n"
   ]
  },
  {
   "cell_type": "code",
   "execution_count": 23,
   "id": "9293e136",
   "metadata": {},
   "outputs": [
    {
     "name": "stdout",
     "output_type": "stream",
     "text": [
      "              precision    recall  f1-score   support\n",
      "\n",
      "          No       0.82      0.91      0.86       926\n",
      "         Yes       0.70      0.52      0.60       377\n",
      "\n",
      "    accuracy                           0.80      1303\n",
      "   macro avg       0.76      0.72      0.73      1303\n",
      "weighted avg       0.79      0.80      0.79      1303\n",
      "\n"
     ]
    }
   ],
   "source": [
    "print(classification_report(y_test_down, y_pred_down))"
   ]
  },
  {
   "cell_type": "markdown",
   "id": "62d660d0",
   "metadata": {},
   "source": [
    "### 7. Use decision tree classifier to fit the model and compute the accuracy of the model."
   ]
  },
  {
   "cell_type": "code",
   "execution_count": 16,
   "id": "ad6fb6fa",
   "metadata": {},
   "outputs": [
    {
     "name": "stdout",
     "output_type": "stream",
     "text": [
      "Accuracy (Decision Tree - TOMEKLinkified from previous lab): 0.7674597083653109\n"
     ]
    }
   ],
   "source": [
    "dt_down = DecisionTreeClassifier()\n",
    "dt_down.fit(X_train_down, y_train_down)\n",
    "y_pred_dt_down = dt_down.predict(X_test_down)\n",
    "accuracy_dt_down = accuracy_score(y_test_down, y_pred_dt_down)\n",
    "print(\"Accuracy (Decision Tree - TOMEKLinkified from previous lab):\", accuracy_dt_down)"
   ]
  },
  {
   "cell_type": "code",
   "execution_count": 25,
   "id": "d2e4c1d0",
   "metadata": {},
   "outputs": [
    {
     "name": "stdout",
     "output_type": "stream",
     "text": [
      "              precision    recall  f1-score   support\n",
      "\n",
      "          No       0.83      0.84      0.84       926\n",
      "         Yes       0.60      0.59      0.59       377\n",
      "\n",
      "    accuracy                           0.77      1303\n",
      "   macro avg       0.72      0.71      0.72      1303\n",
      "weighted avg       0.77      0.77      0.77      1303\n",
      "\n"
     ]
    }
   ],
   "source": [
    "print(classification_report(y_test_down, y_pred_dt_down))"
   ]
  },
  {
   "cell_type": "markdown",
   "id": "f39a3d6a",
   "metadata": {},
   "source": [
    "### 8. Compare the accuracies of the two models."
   ]
  },
  {
   "cell_type": "code",
   "execution_count": 20,
   "id": "c25c58c5",
   "metadata": {},
   "outputs": [
    {
     "name": "stdout",
     "output_type": "stream",
     "text": [
      "Accuracy Comparison - TOMEKLinkified\n",
      "Logistic Regression Accuracy: 0.7966231772831927\n",
      "Decision Tree Accuracy: 0.7674597083653109\n"
     ]
    }
   ],
   "source": [
    "print(\"Accuracy Comparison - TOMEKLinkified\")\n",
    "print(\"Logistic Regression Accuracy:\", accuracy_down)\n",
    "print(\"Decision Tree Accuracy:\", accuracy_dt_down)"
   ]
  },
  {
   "cell_type": "markdown",
   "id": "d4866a28",
   "metadata": {},
   "source": [
    "### Oddly enough, the accuracy of the the Decision Tree Model is lower than the Logistic Regression model. However, the Logistic Regression Model is markedly better at predicting Yes."
   ]
  }
 ],
 "metadata": {
  "kernelspec": {
   "display_name": "Python 3 (ipykernel)",
   "language": "python",
   "name": "python3"
  },
  "language_info": {
   "codemirror_mode": {
    "name": "ipython",
    "version": 3
   },
   "file_extension": ".py",
   "mimetype": "text/x-python",
   "name": "python",
   "nbconvert_exporter": "python",
   "pygments_lexer": "ipython3",
   "version": "3.9.13"
  }
 },
 "nbformat": 4,
 "nbformat_minor": 5
}
